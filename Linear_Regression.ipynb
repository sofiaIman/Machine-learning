{
  "nbformat": 4,
  "nbformat_minor": 0,
  "metadata": {
    "colab": {
      "name": "Linear Regression.ipynb",
      "provenance": [],
      "collapsed_sections": [],
      "authorship_tag": "ABX9TyPc4XdVf3D+YNHJgntY12+N",
      "include_colab_link": true
    },
    "kernelspec": {
      "name": "python3",
      "display_name": "Python 3"
    },
    "language_info": {
      "name": "python"
    }
  },
  "cells": [
    {
      "cell_type": "markdown",
      "metadata": {
        "id": "view-in-github",
        "colab_type": "text"
      },
      "source": [
        "<a href=\"https://colab.research.google.com/github/sofiaIman/Machine-learning/blob/main/Linear_Regression.ipynb\" target=\"_parent\"><img src=\"https://colab.research.google.com/assets/colab-badge.svg\" alt=\"Open In Colab\"/></a>"
      ]
    },
    {
      "cell_type": "code",
      "metadata": {
        "id": "CjucE4sb5pqM",
        "colab": {
          "base_uri": "https://localhost:8080/",
          "height": 295
        },
        "outputId": "3328c2e7-d6db-48c0-8916-2892f3068a6d"
      },
      "source": [
        "# Making the imports\n",
        "import numpy as np\n",
        "from numpy import random\n",
        "import matplotlib.pyplot as plt\n",
        "\n",
        "\n",
        "x=np.random.normal(size=100) #Office size \n",
        "y=np.random.normal(size=100) #Office price\n",
        "\n",
        "plt.scatter(x, y)\n",
        "plt.title(\"plot x and y\")\n",
        "plt.xlabel(\"Office size\")\n",
        "plt.ylabel(\"Office price\")\n",
        "plt.show()\n",
        "\n"
      ],
      "execution_count": 48,
      "outputs": [
        {
          "output_type": "display_data",
          "data": {
            "image/png": "[encoded data removed]",
            "text/plain": [
              "<Figure size 432x288 with 1 Axes>"
            ]
          },
          "metadata": {
            "tags": [],
            "needs_background": "light"
          }
        }
      ]
    },
    {
      "cell_type": "code",
      "metadata": {
        "colab": {
          "base_uri": "https://localhost:8080/"
        },
        "id": "DfgjnM1N5o0X",
        "outputId": "549237b7-8d7c-4593-fd89-3833279cb65a"
      },
      "source": [
        "#Compute ‘m’ and ‘c’ of the line \n",
        "\n",
        "x_mean = np.mean(x)\n",
        "y_mean = np.mean(y)\n",
        "_m = np.sum((x - x_mean) * (y - y_mean)) / np.sum((x - x_mean) ** 2)\n",
        "_c = y_mean - (_m * x_mean)\n",
        "print(\"\\nThe value of m and c is:\", _m,\",\", _c)"
      ],
      "execution_count": 10,
      "outputs": [
        {
          "output_type": "stream",
          "text": [
            "\n",
            "The value of m and c is: -0.16249721296786618 , -0.04356941786105098\n"
          ],
          "name": "stdout"
        }
      ]
    },
    {
      "cell_type": "code",
      "metadata": {
        "id": "YZ7DsQuo6m17"
      },
      "source": [
        "# getting predictions on training data\n",
        "y_pred = (_m * x) + _c"
      ],
      "execution_count": 16,
      "outputs": []
    },
    {
      "cell_type": "code",
      "metadata": {
        "id": "bhiODThN8CAh"
      },
      "source": [
        "#Implement mean square error function. i.e, err = mean_square_error(Y_actual, Y_predicted)\n",
        "#where err is the mean square error of actual label (i.e. Y_actual) and predicted label ( i.e. Y_predicted).\n",
        "def mean_squared_error(y_actual, y_predicted):\n",
        "    mse = (np.sum((y_actual - y_predicted) ** 2)) / len(y_actual)\n",
        "    return mse"
      ],
      "execution_count": 17,
      "outputs": []
    },
    {
      "cell_type": "code",
      "metadata": {
        "colab": {
          "base_uri": "https://localhost:8080/"
        },
        "id": "DAAN1_w_8L64",
        "outputId": "8945e0c3-5209-43c2-e8b0-96731bcf8937"
      },
      "source": [
        "# computing training error. \n",
        "err = mean_squared_error(y, y_pred) \n",
        "print('MSE from line using the data is: ', err)"
      ],
      "execution_count": 18,
      "outputs": [
        {
          "output_type": "stream",
          "text": [
            "MSE from line using training data is:  0.8459180392437686\n"
          ],
          "name": "stdout"
        }
      ]
    },
    {
      "cell_type": "code",
      "metadata": {
        "colab": {
          "base_uri": "https://localhost:8080/",
          "height": 281
        },
        "id": "orNTLQK68SNz",
        "outputId": "5aff2c58-51b0-414a-f68b-7a634d1fea89"
      },
      "source": [
        "# plotting regression line on training data\n",
        "plt.title('Plot on data')\n",
        "plt.scatter(x, y, c='r', label='office data')\n",
        "plt.plot(x, y_pred, color='g', label='regression line')\n",
        "plt.legend()\n",
        "plt.show()"
      ],
      "execution_count": 20,
      "outputs": [
        {
          "output_type": "display_data",
          "data": {
            "image/png": "[encoded data removed]",
            "text/plain": [
              "<Figure size 432x288 with 1 Axes>"
            ]
          },
          "metadata": {
            "tags": [],
            "needs_background": "light"
          }
        }
      ]
    },
    {
      "cell_type": "code",
      "metadata": {
        "colab": {
          "base_uri": "https://localhost:8080/",
          "height": 285
        },
        "id": "R-vFrBOxCcCX",
        "outputId": "464f6def-939d-4777-ecbb-e2c4d46bea38"
      },
      "source": [
        "#Plot line of best fit\n",
        "Y_prediction = m*100 + c\n",
        "\n",
        "print('Office Price Prediction:',Y_prediction)\n",
        "\n",
        "plt.scatter(X, Y)\n",
        "plt.plot([min(X), max(X)], [np.min(Y),np.max(Y)], c='r')\n",
        "plt.show()"
      ],
      "execution_count": 46,
      "outputs": [
        {
          "output_type": "stream",
          "text": [
            "Office Price Prediction: -14.696376571069425\n"
          ],
          "name": "stdout"
        },
        {
          "output_type": "display_data",
          "data": {
            "image/png": "[encoded data removed]",
            "text/plain": [
              "<Figure size 432x288 with 1 Axes>"
            ]
          },
          "metadata": {
            "tags": [],
            "needs_background": "light"
          }
        }
      ]
    }
  ]
}